{
 "cells": [
  {
   "cell_type": "code",
   "execution_count": 82,
   "metadata": {},
   "outputs": [],
   "source": [
    "file_suffices = ['12_12-31-19_.csv', \n",
    "                 '12_17-43-29_.csv',\n",
    "                 '12_14-22-33_.csv',\n",
    "                #  '12_13-48-57_.csv',\n",
    "                #  '12_16-07-36_.csv',\n",
    "                #  '12_15-31-04_.csv',\n",
    "                #  '12_11-53-58_.csv',\n",
    "                ]\n",
    "schedulers = ['Baseline', \n",
    "          \"Clockwork\",\n",
    "          \"Round Robin\",\n",
    "          # \"RR new quantum\",\n",
    "          # \"RR starved first\",\n",
    "          # \"RR adjust quantum times\",\n",
    "          # \"SLA aware RR\",\n",
    "        ]"
   ]
  },
  {
   "cell_type": "code",
   "execution_count": 83,
   "metadata": {},
   "outputs": [],
   "source": [
    "# find all files ending with some suffix\n",
    "\n",
    "import os\n",
    "import sys\n",
    "\n",
    "def find_files(suffix, path):\n",
    "    if not os.path.isdir(path):\n",
    "        return\n",
    "    result = []\n",
    "    for root, dirs, files in os.walk(path):\n",
    "        for file in files:\n",
    "            if file.endswith(suffix):\n",
    "                # print(os.path.join(root, file))\n",
    "                result.append(os.path.join(root, file))\n",
    "    return result"
   ]
  },
  {
   "cell_type": "code",
   "execution_count": 84,
   "metadata": {},
   "outputs": [
    {
     "data": {
      "text/plain": [
       "['../logs/machine_66625_2024-06-12_12-31-19_.csv',\n",
       " '../logs/machine_733734_2024-06-12_12-31-19_.csv',\n",
       " '../logs/machine_24424_2024-06-12_12-31-19_.csv',\n",
       " '../logs/machine_479033_2024-06-12_12-31-19_.csv',\n",
       " '../logs/machine_544432_2024-06-12_12-31-19_.csv',\n",
       " '../logs/machine_223364_2024-06-12_12-31-19_.csv',\n",
       " '../logs/machine_275676_2024-06-12_12-31-19_.csv',\n",
       " '../logs/machine_797787_2024-06-12_12-31-19_.csv',\n",
       " '../logs/machine_280874_2024-06-12_12-31-19_.csv',\n",
       " '../logs/machine_385685_2024-06-12_12-31-19_.csv',\n",
       " '../logs/machine_340767_2024-06-12_12-31-19_.csv',\n",
       " '../logs/machine_478045_2024-06-12_12-31-19_.csv',\n",
       " '../logs/machine_755672_2024-06-12_12-31-19_.csv',\n",
       " '../logs/machine_896337_2024-06-12_12-31-19_.csv',\n",
       " '../logs/machine_594740_2024-06-12_12-31-19_.csv',\n",
       " '../logs/machine_378103_2024-06-12_12-31-19_.csv',\n",
       " '../logs/machine_611094_2024-06-12_12-31-19_.csv',\n",
       " '../logs/machine_87201_2024-06-12_12-31-19_.csv',\n",
       " '../logs/machine_783802_2024-06-12_12-31-19_.csv',\n",
       " '../logs/machine_989010_2024-06-12_12-31-19_.csv']"
      ]
     },
     "execution_count": 84,
     "metadata": {},
     "output_type": "execute_result"
    }
   ],
   "source": [
    "find_files(\"12_12-31-19_.csv\", \"../logs\") # baseline"
   ]
  },
  {
   "cell_type": "code",
   "execution_count": 85,
   "metadata": {},
   "outputs": [
    {
     "name": "stdout",
     "output_type": "stream",
     "text": [
      "['../logs/machine_66625_2024-06-12_12-31-19_.csv', '../logs/machine_733734_2024-06-12_12-31-19_.csv', '../logs/machine_24424_2024-06-12_12-31-19_.csv', '../logs/machine_479033_2024-06-12_12-31-19_.csv', '../logs/machine_544432_2024-06-12_12-31-19_.csv', '../logs/machine_223364_2024-06-12_12-31-19_.csv', '../logs/machine_275676_2024-06-12_12-31-19_.csv', '../logs/machine_797787_2024-06-12_12-31-19_.csv', '../logs/machine_280874_2024-06-12_12-31-19_.csv', '../logs/machine_385685_2024-06-12_12-31-19_.csv', '../logs/machine_340767_2024-06-12_12-31-19_.csv', '../logs/machine_478045_2024-06-12_12-31-19_.csv', '../logs/machine_755672_2024-06-12_12-31-19_.csv', '../logs/machine_896337_2024-06-12_12-31-19_.csv', '../logs/machine_594740_2024-06-12_12-31-19_.csv', '../logs/machine_378103_2024-06-12_12-31-19_.csv', '../logs/machine_611094_2024-06-12_12-31-19_.csv', '../logs/machine_87201_2024-06-12_12-31-19_.csv', '../logs/machine_783802_2024-06-12_12-31-19_.csv', '../logs/machine_989010_2024-06-12_12-31-19_.csv']\n"
     ]
    }
   ],
   "source": [
    "files = find_files(\"12_12-31-19_.csv\", \"../logs\")\n",
    "print(files)"
   ]
  },
  {
   "cell_type": "code",
   "execution_count": 86,
   "metadata": {},
   "outputs": [],
   "source": [
    "import pandas as pd\n",
    "from datetime import datetime"
   ]
  },
  {
   "cell_type": "code",
   "execution_count": 87,
   "metadata": {},
   "outputs": [],
   "source": [
    "def calculate_loading_time(files):\n",
    "    loading_timestamps = {}\n",
    "    loading_sums= {}\n",
    "\n",
    "    for file in files:\n",
    "        df = pd.read_csv(file, header=None)\n",
    "        # iterate over rows with iterrows\n",
    "        for index, row in df.iterrows():\n",
    "            model, action = row[0].split('#')\n",
    "            if action == 'load_start':\n",
    "                loading_timestamps[model] = row[1]\n",
    "            if action == 'load_end':\n",
    "                end_time = datetime.strptime(row[1], '%Y-%m-%d %H:%M:%S.%f').timestamp()\n",
    "                start_time = datetime.strptime(loading_timestamps[model], '%Y-%m-%d %H:%M:%S.%f').timestamp()\n",
    "\n",
    "                loading_sums[model] = end_time - start_time + loading_sums.get(model, 0)\n",
    "\n",
    "    return sum(loading_sums.values())\n"
   ]
  },
  {
   "cell_type": "code",
   "execution_count": 88,
   "metadata": {},
   "outputs": [
    {
     "name": "stdout",
     "output_type": "stream",
     "text": [
      "{'Baseline': 1931.5138177871704, 'Clockwork': 1061.2364687919617, 'Round Robin': 857.8052177429199}\n"
     ]
    }
   ],
   "source": [
    "loading_times = {}\n",
    "for scheduler, suffix in zip(schedulers, file_suffices):\n",
    "    files = find_files(suffix, \"../logs\")\n",
    "    loading_times[scheduler] = calculate_loading_time(files)\n",
    "\n",
    "print(loading_times)"
   ]
  },
  {
   "cell_type": "code",
   "execution_count": 90,
   "metadata": {},
   "outputs": [
    {
     "name": "stdout",
     "output_type": "stream",
     "text": [
      "Baseline: 1931.51\n",
      "Clockwork: 1061.24\n",
      "Round Robin: 857.81\n"
     ]
    },
    {
     "data": {
      "image/png": "[encoded data removed]",
      "text/plain": [
       "<Figure size 640x480 with 1 Axes>"
      ]
     },
     "metadata": {},
     "output_type": "display_data"
    }
   ],
   "source": [
    "import matplotlib.pyplot as plt\n",
    "fig, ax = plt.subplots()\n",
    "\n",
    "for scheduler, loading_time in loading_times.items():\n",
    "    print(f\"{scheduler}: {loading_time:.2f}\")\n",
    "\n",
    "    ax.bar(scheduler, loading_time)\n",
    "    ax.text(scheduler, loading_time, f\"{loading_time:.2f}\", ha='center', va='bottom')\n",
    "\n",
    "    # add smaller legend with scheduler names\n",
    "    ax.legend(schedulers, loc='upper right')\n",
    "    ax.set_xticklabels([])\n",
    "    ax.title.set_text('Total model loading time [s]')\n",
    "\n",
    "# plt.show()\n",
    "plt.savefig('total_model_loading_time.svg')"
   ]
  },
  {
   "cell_type": "code",
   "execution_count": null,
   "metadata": {},
   "outputs": [],
   "source": []
  }
 ],
 "metadata": {
  "kernelspec": {
   "display_name": "Python 3",
   "language": "python",
   "name": "python3"
  },
  "language_info": {
   "codemirror_mode": {
    "name": "ipython",
    "version": 3
   },
   "file_extension": ".py",
   "mimetype": "text/x-python",
   "name": "python",
   "nbconvert_exporter": "python",
   "pygments_lexer": "ipython3",
   "version": "3.9.2"
  }
 },
 "nbformat": 4,
 "nbformat_minor": 2
}
